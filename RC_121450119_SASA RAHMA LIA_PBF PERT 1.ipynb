{
 "cells": [
  {
   "cell_type": "markdown",
   "id": "7c7af519-1c20-4fce-ad3c-b0c956fb3f29",
   "metadata": {},
   "source": [
    "**NAMA : SASA RAHMA LIA**\\\n",
    "**NIM : 121450119**\\\n",
    "**KELAS : RC**\n"
   ]
  },
  {
   "cell_type": "markdown",
   "id": "783ae18a-5637-4b6a-a1b2-bef4e6ac8429",
   "metadata": {},
   "source": [
    "**TUGAS 1**"
   ]
  },
  {
   "cell_type": "markdown",
   "id": "43b1d854-be0e-4250-b7bf-6e8f981b9f38",
   "metadata": {},
   "source": [
    "A. Jelaskan menggunakan tabel mengenai kelebihan dan kekurangan paradigma procedural dibandingkan dengan object oriented (minimal 3)!"
   ]
  },
  {
   "cell_type": "markdown",
   "id": "3a078cdb-4f2b-44a3-88eb-ca23ecf4b708",
   "metadata": {},
   "source": [
    "**KELEBIHAN**\n",
    "\n",
    "|Paradigma procedural|OOP|\n",
    "|---|---|\n",
    "|program ditulis secara sederhana dan tersusun|program yang ditulis lebih kompleks|\n",
    "|memory yang digunakan lebih sedikit|memory yang digunakan lebih besar dari paradigma procedural|\n",
    "|code yang dimiliki mudah untuk dipahami|code yang dimiliki sulit untuk dipahami|\n"
   ]
  },
  {
   "cell_type": "markdown",
   "id": "c93d566b-8cfd-446d-a98b-f17092dd888f",
   "metadata": {},
   "source": [
    "**KEKURANGAN**\n",
    "\n",
    "|Paradigma procedural|OOP|\n",
    "|---|---|\n",
    "|fungsi yang tersedia susah untuk diubah|fungsi yang tersedia masih bisa untuk diubah|\n",
    "|memiliki proses perawatan yang cukup sulit|memiliki proses perawatan yang mudah|\n",
    "|programnya kurang aman|programnya cukup aman|"
   ]
  },
  {
   "cell_type": "markdown",
   "id": "f0973efe-e955-4cbd-8190-3be43cecdc76",
   "metadata": {},
   "source": [
    "B.  Jelaskan menggunakan tabel mengenai kelebihan dan kekurangan paradigma object oriented dibandingkan dengan functional (minimal 3)!"
   ]
  },
  {
   "cell_type": "markdown",
   "id": "108ab9f7-8e02-4e5c-b9d8-43eb22fc35e4",
   "metadata": {},
   "source": [
    "**KELEBIHAN**\n",
    "\n",
    "|OOP|Paradigma functional|\n",
    "|---|---|\n",
    "|mudah untuk menambahkan sebuah data|tidak mudah untuk menambahkan sebuah data|\n",
    "|nilai variabel selalu dihitung |nilai variabel dihitung jika diperlukan saja|\n",
    "|perlu mengacak seluruh riwayar status variabel|tidak perlu mengacak seluruh riwayat status variabel\n"
   ]
  },
  {
   "cell_type": "markdown",
   "id": "68884d2b-59b3-4d82-94a5-b4414b9146e3",
   "metadata": {},
   "source": [
    "**KEKURANGAN**\n",
    "\n",
    "|OOP|Paradigma functional|\n",
    "|---|---|\n",
    "|efesien untuk melakukan rekursi|tidak efesien untuk melakukan rekursi|\n",
    "|mudah untuk menduplikasikan struktur data besar|sulit untuk menduplikasikan struktur data besar|\n",
    "|tidak menggunakan rekursi untuk setiap operasi iterasi|lebih menggunakan rekursi untuk setiap operasi iterasi|\n"
   ]
  },
  {
   "cell_type": "markdown",
   "id": "d1742f5b-80f9-4e54-968e-803348b9ff77",
   "metadata": {},
   "source": [
    "C.  Jelaskan menggunakan tabel mengenai kelebihan dan kekurangan paradigma procedural dibandingkan dengan functional (minimal 3)!"
   ]
  },
  {
   "cell_type": "markdown",
   "id": "1833d410-d8f5-4a6c-992a-20dbc15675e8",
   "metadata": {},
   "source": [
    "**KELEBIHAN**\n",
    "\n",
    "|Paradigma procedural|Paradigma functional|\n",
    "|---|---|\n",
    "|menggunakan memory lebih sedikit|banyak menggunakan memory|\n",
    "|code program dapat mudah dipahami|code program sulit untuk dipahami|\n",
    "|code program mudah ditemukan bug|code program sulit ditemukan bug|\n"
   ]
  },
  {
   "cell_type": "markdown",
   "id": "fba16278-a93b-4a81-8b2c-f67ebd815c6f",
   "metadata": {},
   "source": [
    "**KEKURANGAN**\n",
    "\n",
    "|Paradigma procedural|Paradigma functional|\n",
    "|---|---|\n",
    "|evaluasi yang dilakukan secara berurut|evaluasi yang dilakukan secara tidak terurut|\n",
    "|runtime secara berlebihan akan menyebabkan efek program|runtime yang berlebihan tidak akan menyebabkan efek program|\n",
    "|lebih menekankan solusi secara linear|lebih menekankan solusi secara variatif|"
   ]
  },
  {
   "cell_type": "markdown",
   "id": "2e0202eb-c5fb-4fbe-9969-ffca80231680",
   "metadata": {},
   "source": [
    "D. Apa yang dimaksud dengan pure functional programming language?"
   ]
  },
  {
   "cell_type": "markdown",
   "id": "90cd043d-7b49-4e2f-9ed8-053b22154784",
   "metadata": {},
   "source": [
    "Bahasa pemrograman yang menunjuk pada paradigma pemrograman dengan membangun struktur dan elemen pada program"
   ]
  },
  {
   "cell_type": "markdown",
   "id": "530cb193-fb9e-49ab-9d85-be64c4c2bb2c",
   "metadata": {},
   "source": [
    "E. Dari bahasa pemrograman FP di slide sebelumya (slide 14), manakah yang termasuk pure functional programming language?"
   ]
  },
  {
   "cell_type": "markdown",
   "id": "4beccae9-3da8-442e-8bfa-75191cadf789",
   "metadata": {},
   "source": [
    "Haskell"
   ]
  },
  {
   "cell_type": "markdown",
   "id": "95ccd581-9979-4322-a203-5d572fa12b9f",
   "metadata": {},
   "source": [
    "**SIMPLE PASSWORD ENCRYPTION**"
   ]
  },
  {
   "cell_type": "markdown",
   "id": "6ec2c4d4-77ba-4cc3-a7f2-1e9dafc0bd8b",
   "metadata": {},
   "source": [
    "\n",
    "Seorang user dari sebuah website ingin meningkatkan security dari password yang dia miliki dengan metode mengubah password nya menjadi bentuk lain dengan beberapa aturan enkripsi sebagai berikut: \n",
    "1. Input password bertipe string dengan batasan panjang password 100 karakter \n",
    "2. Setiap karakter dari string tersebut diubah menjadi ASCII value \n",
    "3. Kemudian setiap ASCII value tersebut dikembangkan menjadi 3 value dengan dilakukan operasi berikut: \n",
    "    a. Value pertama dibagi dengan integer 26 kemudian dibulatkan dan dijumlahkan dengan 80 kemudian diubah kembali menjadi karakter \n",
    "    b. Value kedua dihitung sisa bagi dengan 26 kemudian dijumlahkan dengan 80 kemudian diubah kembali menjadi karakter \n",
    "    c. Value ketiga adalah karakter ‘+’ jika value pertama lebih besar dari value kedua, atau value ketiga adalah karakter ‘-’ jika value pertama tidak lebih besar dari value kedua \n",
    "4. Deretkan value pertama, kedua dan ketiga untuk setiap karakter dalam password tersebut sehingga didapatkan password dalam bentuk baru"
   ]
  },
  {
   "cell_type": "markdown",
   "id": "5b2e857d-75d4-4a0b-a444-6a1dee47b6b4",
   "metadata": {},
   "source": [
    "**EXERCISE 1**"
   ]
  },
  {
   "cell_type": "markdown",
   "id": "acbc039b-a620-4f45-84ad-865b9924f648",
   "metadata": {},
   "source": [
    "A.  Bantulah user tersebut dengan membuatkan sebuah program yang secara otomatis mengubah password yang di input menjadi terenkripsi sesuai aturan tersebut!"
   ]
  },
  {
   "cell_type": "code",
   "execution_count": 1,
   "id": "50cbdc64-6690-4ab7-8afd-aac822dc238d",
   "metadata": {},
   "outputs": [],
   "source": [
    "\n",
    "def encrypt(sandi):\n",
    "    # Jika panjang lebih lebih dari 100 atau 0 \n",
    "    if len(sandi) == 0 or len(sandi) > 100:\n",
    "        print(\"Maaf silahkan masukan sandi dengan benar (dengan rentang 1 - 100)\")\n",
    "    else : \n",
    "        ubah = [str(ord(i)) for i in sandi]\n",
    "        # Menerapkan 3 value pada kode ascii yang telah ditentukan\n",
    "        open_decrypt = ''.join(chr((int(j)//26)+80)+chr((int(j)%26)+80)+('+' if (int(j)//26)+80 > (int(j)%26)+80 else '-') for j in ubah)\n",
    "        # menampilkan hasil enkripsi\n",
    "        print(\"Sandinya adalah :  \", open_decrypt)\n",
    "\n",
    "def decrypt(sandi):\n",
    "    # split 3 value Password\n",
    "    sandi_split = [(sandi[k:k+3]) for k in range(0, len(sandi), 3)]\n",
    "    # Mengubah 3 value kembali ke kode ascii lalu ke karakter asli dan menggabungkan semuanya\n",
    "    open_encrypt = ''.join(chr(((ord(list(z)[0])-80)*26)+(ord(list(z)[1])-80)) for z in sandi_split)\n",
    "    # Hasil dekripsi\n",
    "    print(\"Sandinya adalah :  \", open_encrypt)"
   ]
  },
  {
   "cell_type": "markdown",
   "id": "6e3d2a79-8408-4cab-9857-aa420bcf585f",
   "metadata": {},
   "source": [
    "B. Apa output yang dihasilkan dari program tersebut jika input password adalah 'anakanakcerdas2020'?"
   ]
  },
  {
   "cell_type": "code",
   "execution_count": 2,
   "id": "6416e82e-eb88-4af3-922f-b341af7f8d9d",
   "metadata": {},
   "outputs": [
    {
     "name": "stdin",
     "output_type": "stream",
     "text": [
      "Masukan Sandi Anda :  5052022\n"
     ]
    },
    {
     "name": "stdout",
     "output_type": "stream",
     "text": [
      "Sandinya adalah :   RQ+Qf-RQ+Qh-Qf-Qh-Qh-\n"
     ]
    }
   ],
   "source": [
    "ubah_input = input(\"Masukan Sandi Anda : \")\n",
    "encrypt(ubah_input)"
   ]
  },
  {
   "cell_type": "markdown",
   "id": "4c4f842f-fcf0-40d2-96e3-8efd39c1aa09",
   "metadata": {},
   "source": [
    "C. (Bonus) user tersebut lupa password asli yang dia inputkan ke dalam program tersebut,password setelah dienkripsi adalah 'Sc-TV-Sc-TS+T[-SC-TQ+TV-T[-Sf-Sc-T\\-Sc-Qh-Qf-Qh-qf-TS+Sg-Se-Sg-'. Bantulah user tersebut mendapatkan password aslinya!"
   ]
  },
  {
   "cell_type": "code",
   "execution_count": 3,
   "id": "fe659009-a3a4-40d9-bdf2-0a6c52008271",
   "metadata": {},
   "outputs": [
    {
     "name": "stdin",
     "output_type": "stream",
     "text": [
      "Masukan sandi yang Anda ingin pecahkan :  Sc-TV-Sc-TS+T[-SC-TQ+TV-T[-Sf-Sc-T-Sc-Qh-Qf-Qh-qf-TS+Sg-Se-Sg-\n"
     ]
    },
    {
     "name": "stdout",
     "output_type": "stream",
     "text": [
      "Sandinya adalah :   anaksAinsdaEǋɍșɍș)ȳǿȳ\n"
     ]
    }
   ],
   "source": [
    "ubah_input = input(\"Masukan sandi yang Anda ingin pecahkan : \")\n",
    "decrypt(ubah_input)"
   ]
  },
  {
   "cell_type": "code",
   "execution_count": null,
   "id": "3ba9a6d8-f2e2-4323-a9a2-84669b286786",
   "metadata": {},
   "outputs": [],
   "source": []
  }
 ],
 "metadata": {
  "kernelspec": {
   "display_name": "Python 3 (ipykernel)",
   "language": "python",
   "name": "python3"
  },
  "language_info": {
   "codemirror_mode": {
    "name": "ipython",
    "version": 3
   },
   "file_extension": ".py",
   "mimetype": "text/x-python",
   "name": "python",
   "nbconvert_exporter": "python",
   "pygments_lexer": "ipython3",
   "version": "3.9.7"
  }
 },
 "nbformat": 4,
 "nbformat_minor": 5
}
